{
 "cells": [
  {
   "cell_type": "markdown",
   "id": "6e12f562-52b8-47e6-b292-ddc6810a8912",
   "metadata": {},
   "source": [
    "### Information Retrieval Coursework (STW7071CEM)"
   ]
  },
  {
   "cell_type": "markdown",
   "id": "0f9149ed-a46c-4430-b16a-5f2bfd9796e3",
   "metadata": {},
   "source": [
    "Task: Develop a document clustering system.\n",
    "\n",
    "First, collect a number of documents that belong to different categories, namely Politics, Economics and Entertainment. Each document should be at least one sentence (the longer is usually the better). The total number of documents is up to you but should be at least 100 (the more is usually the better).\n",
    "\n",
    "Once you have collected sufficient documents, cluster them using a standard clustering method (e.g. K-means).\n",
    "\n",
    "Finally, use the created model to assign a new document to one of the existing clusters. That is, the user enters a document (e.g. a sentence) and your system outputs the right cluster."
   ]
  },
  {
   "cell_type": "markdown",
   "id": "4e2b6f23-4210-4333-9125-83c141398dfa",
   "metadata": {},
   "source": [
    "### Importing Modules"
   ]
  },
  {
   "cell_type": "code",
   "execution_count": 1,
   "id": "ef65c1e2-ed42-47b2-a5ae-12ca780487da",
   "metadata": {},
   "outputs": [],
   "source": [
    "import os\n",
    "import string\n",
    "\n",
    "# Data Handling and Processing\n",
    "import pandas as pd\n",
    "import numpy as np\n",
    "import re\n",
    "# from scipy import interp\n",
    "\n",
    "\n",
    "# # Visualuzation\n",
    "import matplotlib.pyplot as plt\n",
    "# %matplotlib inline\n",
    "# %config InlineBackend.figure_format='retina'\n",
    "\n",
    "# NLP Packages\n",
    "from nltk.tokenize import word_tokenize\n",
    "from nltk.corpus import stopwords, wordnet\n",
    "from nltk.stem import WordNetLemmatizer\n",
    "from nltk import pos_tag\n",
    "import nltk\n",
    "from joblib import dump, load\n",
    "\n",
    "\n",
    "# ML Models\n",
    "from sklearn.linear_model import LogisticRegression\n",
    "from sklearn.naive_bayes import MultinomialNB\n",
    "from sklearn.linear_model import RidgeClassifier\n",
    "from sklearn.tree import DecisionTreeClassifier\n",
    "from sklearn.cluster import KMeans\n",
    "\n",
    "# Scikit Learn packages\n",
    "from sklearn.base import clone\n",
    "from sklearn.preprocessing import label_binarize, LabelEncoder\n",
    "from sklearn.feature_extraction.text import TfidfVectorizer, CountVectorizer\n",
    "from sklearn.model_selection import KFold, cross_validate, cross_val_score, train_test_split\n",
    "from sklearn.pipeline import Pipeline\n",
    "from sklearn import metrics\n",
    "from sklearn.metrics import roc_curve, auc"
   ]
  },
  {
   "cell_type": "markdown",
   "id": "711b2c2f-3bd7-4ff1-a06c-06bd65d06ab6",
   "metadata": {},
   "source": [
    "### Load Dataset"
   ]
  },
  {
   "cell_type": "code",
   "execution_count": 2,
   "id": "9bb035a9-00af-4bd1-99e0-7642960f6e42",
   "metadata": {},
   "outputs": [
    {
     "name": "stdout",
     "output_type": "stream",
     "text": [
      "(111, 3)\n"
     ]
    },
    {
     "data": {
      "text/html": [
       "<div>\n",
       "<style scoped>\n",
       "    .dataframe tbody tr th:only-of-type {\n",
       "        vertical-align: middle;\n",
       "    }\n",
       "\n",
       "    .dataframe tbody tr th {\n",
       "        vertical-align: top;\n",
       "    }\n",
       "\n",
       "    .dataframe thead th {\n",
       "        text-align: right;\n",
       "    }\n",
       "</style>\n",
       "<table border=\"1\" class=\"dataframe\">\n",
       "  <thead>\n",
       "    <tr style=\"text-align: right;\">\n",
       "      <th></th>\n",
       "      <th>Document</th>\n",
       "      <th>Cluster</th>\n",
       "      <th>Cluster_Name</th>\n",
       "    </tr>\n",
       "  </thead>\n",
       "  <tbody>\n",
       "    <tr>\n",
       "      <th>0</th>\n",
       "      <td>Trying to understand it for the first time or ...</td>\n",
       "      <td>1.0</td>\n",
       "      <td>Politics</td>\n",
       "    </tr>\n",
       "    <tr>\n",
       "      <th>1</th>\n",
       "      <td>President Biden has upended the 2024  White Ho...</td>\n",
       "      <td>1.0</td>\n",
       "      <td>Politics</td>\n",
       "    </tr>\n",
       "    <tr>\n",
       "      <th>2</th>\n",
       "      <td>The junior senator from Ohio shot to fame writ...</td>\n",
       "      <td>1.0</td>\n",
       "      <td>Politics</td>\n",
       "    </tr>\n",
       "    <tr>\n",
       "      <th>3</th>\n",
       "      <td>A very quick guide to Donald Trump's life story.</td>\n",
       "      <td>1.0</td>\n",
       "      <td>Politics</td>\n",
       "    </tr>\n",
       "    <tr>\n",
       "      <th>4</th>\n",
       "      <td>The daughter of an Indian-born mother and Jama...</td>\n",
       "      <td>1.0</td>\n",
       "      <td>Politics</td>\n",
       "    </tr>\n",
       "  </tbody>\n",
       "</table>\n",
       "</div>"
      ],
      "text/plain": [
       "                                            Document  Cluster Cluster_Name\n",
       "0  Trying to understand it for the first time or ...      1.0     Politics\n",
       "1  President Biden has upended the 2024  White Ho...      1.0     Politics\n",
       "2  The junior senator from Ohio shot to fame writ...      1.0     Politics\n",
       "3   A very quick guide to Donald Trump's life story.      1.0     Politics\n",
       "4  The daughter of an Indian-born mother and Jama...      1.0     Politics"
      ]
     },
     "execution_count": 2,
     "metadata": {},
     "output_type": "execute_result"
    }
   ],
   "source": [
    "df = pd.read_csv('database_csv.csv',encoding='latin1')\n",
    "df = df[df['Cluster_Name'].isin(['Politics','Entertainment','Economics'])]\n",
    "print(df.shape)\n",
    "df.head()\n"
   ]
  },
  {
   "cell_type": "code",
   "execution_count": 3,
   "id": "7abc5a65",
   "metadata": {},
   "outputs": [
    {
     "name": "stdout",
     "output_type": "stream",
     "text": [
      "Index(['Document', 'Cluster', 'Cluster_Name'], dtype='object')\n"
     ]
    }
   ],
   "source": [
    "print(df.columns)"
   ]
  },
  {
   "cell_type": "code",
   "execution_count": 4,
   "id": "741b10b8-fca9-4834-af6d-b4c6423219f9",
   "metadata": {},
   "outputs": [
    {
     "data": {
      "text/html": [
       "<div>\n",
       "<style scoped>\n",
       "    .dataframe tbody tr th:only-of-type {\n",
       "        vertical-align: middle;\n",
       "    }\n",
       "\n",
       "    .dataframe tbody tr th {\n",
       "        vertical-align: top;\n",
       "    }\n",
       "\n",
       "    .dataframe thead th {\n",
       "        text-align: right;\n",
       "    }\n",
       "</style>\n",
       "<table border=\"1\" class=\"dataframe\">\n",
       "  <thead>\n",
       "    <tr style=\"text-align: right;\">\n",
       "      <th></th>\n",
       "      <th>Document</th>\n",
       "      <th>Cluster_Name</th>\n",
       "    </tr>\n",
       "  </thead>\n",
       "  <tbody>\n",
       "    <tr>\n",
       "      <th>0</th>\n",
       "      <td>Trying to understand it for the first time or ...</td>\n",
       "      <td>Politics</td>\n",
       "    </tr>\n",
       "    <tr>\n",
       "      <th>1</th>\n",
       "      <td>President Biden has upended the 2024  White Ho...</td>\n",
       "      <td>Politics</td>\n",
       "    </tr>\n",
       "    <tr>\n",
       "      <th>2</th>\n",
       "      <td>The junior senator from Ohio shot to fame writ...</td>\n",
       "      <td>Politics</td>\n",
       "    </tr>\n",
       "    <tr>\n",
       "      <th>3</th>\n",
       "      <td>A very quick guide to Donald Trump's life story.</td>\n",
       "      <td>Politics</td>\n",
       "    </tr>\n",
       "    <tr>\n",
       "      <th>4</th>\n",
       "      <td>The daughter of an Indian-born mother and Jama...</td>\n",
       "      <td>Politics</td>\n",
       "    </tr>\n",
       "  </tbody>\n",
       "</table>\n",
       "</div>"
      ],
      "text/plain": [
       "                                            Document Cluster_Name\n",
       "0  Trying to understand it for the first time or ...     Politics\n",
       "1  President Biden has upended the 2024  White Ho...     Politics\n",
       "2  The junior senator from Ohio shot to fame writ...     Politics\n",
       "3   A very quick guide to Donald Trump's life story.     Politics\n",
       "4  The daughter of an Indian-born mother and Jama...     Politics"
      ]
     },
     "execution_count": 4,
     "metadata": {},
     "output_type": "execute_result"
    }
   ],
   "source": [
    "df.drop(columns=['Cluster'], inplace=True)\n",
    "df.head()"
   ]
  },
  {
   "cell_type": "markdown",
   "id": "8d96097a-c0e2-4dc8-8a6a-5591d8dae464",
   "metadata": {},
   "source": [
    "### Exploring the Dataset"
   ]
  },
  {
   "cell_type": "code",
   "execution_count": 5,
   "id": "1a4aa310-6473-489e-8466-a71cf622f657",
   "metadata": {},
   "outputs": [
    {
     "data": {
      "image/png": "[encoded data removed]",
      "text/plain": [
       "<Figure size 640x480 with 1 Axes>"
      ]
     },
     "metadata": {},
     "output_type": "display_data"
    }
   ],
   "source": [
    "df['Cluster_Name'].value_counts().plot(kind='bar')\n",
    "plt.title('Number of Headlines per cluster name', size=20, pad=20);"
   ]
  },
  {
   "cell_type": "code",
   "execution_count": 6,
   "id": "1824c16e-3f36-4c9c-9622-d3ac831057d2",
   "metadata": {},
   "outputs": [
    {
     "data": {
      "text/plain": [
       "Document        0\n",
       "Cluster_Name    0\n",
       "dtype: int64"
      ]
     },
     "execution_count": 6,
     "metadata": {},
     "output_type": "execute_result"
    }
   ],
   "source": [
    "#Checking for missing values\n",
    "df.isna().sum()"
   ]
  },
  {
   "cell_type": "markdown",
   "id": "b83e37bb-9c3a-49ab-b66d-bb4a4f8ab3fc",
   "metadata": {},
   "source": [
    "### Text Preprocessing"
   ]
  },
  {
   "cell_type": "markdown",
   "id": "d59f743a-53c5-4ad1-bb1c-2da06a887e04",
   "metadata": {},
   "source": [
    "We will now clean the text by removing special characters and punctuations."
   ]
  },
  {
   "cell_type": "code",
   "execution_count": 7,
   "id": "8107bb2e-2c7c-4bd0-b58b-904fa93c1fe8",
   "metadata": {},
   "outputs": [],
   "source": [
    "def preprocess(df):\n",
    "    # Remove special characters\n",
    "    df['Document-pro'] = df['Document'].replace('\\n',' ')\n",
    "    df['Document-pro'] = df['Document-pro'].replace('\\r',' ')\n",
    "    \n",
    "    # Remove punctuation and lowercase\n",
    "    df['Document-pro'] = df['Document-pro'].str.lower()\n",
    "    df['Document-pro'] = df['Document-pro'].str.translate(str.maketrans('','',string.punctuation))\n",
    "    \n",
    "    # Remove stop words\n",
    "    stop_words = stopwords.words(\"english\")\n",
    "    lemmatizer = WordNetLemmatizer()\n",
    "    \n",
    "    def fwpt(each):\n",
    "        tag = pos_tag([each])[0][1][0].upper()\n",
    "        hash_tag = {\"N\": wordnet.NOUN,\"R\": wordnet.ADV, \"V\": wordnet.VERB,\"J\": wordnet.ADJ}\n",
    "        return hash_tag.get(tag, wordnet.NOUN)\n",
    "\n",
    "\n",
    "    def lematize(text):\n",
    "        tokens = nltk.word_tokenize(text)\n",
    "        ax = \"\"\n",
    "        for each in tokens:\n",
    "            if each not in stop_words:\n",
    "                ax += lemmatizer.lemmatize(each, fwpt(each)) + \" \"\n",
    "        return ax\n",
    "\n",
    "    df['Document-pro'] = df['Document-pro'].apply(lematize)"
   ]
  },
  {
   "cell_type": "code",
   "execution_count": 8,
   "id": "e0c03215-2dcb-4a98-8caf-605574a4d7b7",
   "metadata": {},
   "outputs": [
    {
     "name": "stderr",
     "output_type": "stream",
     "text": [
      "[nltk_data] Downloading package punkt to C:\\Users\\Yash\n",
      "[nltk_data]     Raj\\AppData\\Roaming\\nltk_data...\n",
      "[nltk_data]   Package punkt is already up-to-date!\n",
      "[nltk_data] Downloading package wordnet to C:\\Users\\Yash\n",
      "[nltk_data]     Raj\\AppData\\Roaming\\nltk_data...\n",
      "[nltk_data]   Package wordnet is already up-to-date!\n",
      "[nltk_data] Downloading package stopwords to C:\\Users\\Yash\n",
      "[nltk_data]     Raj\\AppData\\Roaming\\nltk_data...\n",
      "[nltk_data]   Package stopwords is already up-to-date!\n",
      "[nltk_data] Downloading package averaged_perceptron_tagger to\n",
      "[nltk_data]     C:\\Users\\Yash Raj\\AppData\\Roaming\\nltk_data...\n",
      "[nltk_data]   Package averaged_perceptron_tagger is already up-to-\n",
      "[nltk_data]       date!\n"
     ]
    },
    {
     "data": {
      "text/plain": [
       "True"
      ]
     },
     "execution_count": 8,
     "metadata": {},
     "output_type": "execute_result"
    }
   ],
   "source": [
    "nltk.download('punkt')\n",
    "nltk.download('wordnet')\n",
    "nltk.download('stopwords')\n",
    "nltk.download('averaged_perceptron_tagger')"
   ]
  },
  {
   "cell_type": "code",
   "execution_count": 9,
   "id": "3116ad4f-3df9-4c61-b1f1-04d8116f9ee6",
   "metadata": {},
   "outputs": [],
   "source": [
    "preprocess(df)"
   ]
  },
  {
   "cell_type": "markdown",
   "id": "0f282c0c-7866-4877-b3d0-84428d18a4b3",
   "metadata": {},
   "source": [
    "### Preprocessing Demonstration"
   ]
  },
  {
   "cell_type": "markdown",
   "id": "da766339-6549-4218-9561-3537f11d6703",
   "metadata": {},
   "source": [
    "**Before Pre-processing:**"
   ]
  },
  {
   "cell_type": "code",
   "execution_count": 10,
   "id": "7ef3ca98-3316-4dfe-b07d-7b41f506dd02",
   "metadata": {},
   "outputs": [
    {
     "data": {
      "text/plain": [
       "'Trying to understand it for the first time or need a refresher? This guide can help.'"
      ]
     },
     "execution_count": 10,
     "metadata": {},
     "output_type": "execute_result"
    }
   ],
   "source": [
    "df.iloc[0]['Document']"
   ]
  },
  {
   "cell_type": "markdown",
   "id": "d0233748-3cab-45f2-8b4f-1c59541b2cf6",
   "metadata": {},
   "source": [
    "**After Pre-processing**"
   ]
  },
  {
   "cell_type": "code",
   "execution_count": 11,
   "id": "85e2264b-924f-4328-9e59-ed6b52d4c4e0",
   "metadata": {},
   "outputs": [
    {
     "data": {
      "text/plain": [
       "'try understand first time need refresher guide help '"
      ]
     },
     "execution_count": 11,
     "metadata": {},
     "output_type": "execute_result"
    }
   ],
   "source": [
    "df.iloc[0]['Document-pro']"
   ]
  },
  {
   "cell_type": "markdown",
   "id": "965dbb4e-c3ce-478f-aacd-2927958ff145",
   "metadata": {},
   "source": [
    "### Train Test Split"
   ]
  },
  {
   "cell_type": "code",
   "execution_count": 12,
   "id": "47d9fa37-7151-41c5-a9ea-85373d48e06f",
   "metadata": {},
   "outputs": [],
   "source": [
    "x_train, x_test, y_train, y_test = train_test_split(df['Document-pro'],\n",
    "                                                    df['Cluster_Name'],\n",
    "                                                    test_size=0.25,\n",
    "                                                    random_state=42)"
   ]
  },
  {
   "cell_type": "markdown",
   "id": "e9707927-3d2e-4971-ac95-44aa956f5e25",
   "metadata": {},
   "source": [
    "Check for acceptable category balance"
   ]
  },
  {
   "cell_type": "code",
   "execution_count": 33,
   "id": "9c2eac4e-fe08-4a38-9504-0582b680190d",
   "metadata": {},
   "outputs": [
    {
     "data": {
      "image/png": "[encoded data removed]",
      "text/plain": [
       "<Figure size 640x480 with 1 Axes>"
      ]
     },
     "metadata": {},
     "output_type": "display_data"
    }
   ],
   "source": [
    "y_train.value_counts().plot(kind='bar')\n",
    "plt.title('Cluster_name Balance', size=20, pad=20);"
   ]
  },
  {
   "cell_type": "code",
   "execution_count": 14,
   "id": "1b961ba6-f301-41bf-a09d-ddf806c65111",
   "metadata": {},
   "outputs": [
    {
     "name": "stdout",
     "output_type": "stream",
     "text": [
      "(83,) (28,) (83,) (28,)\n"
     ]
    }
   ],
   "source": [
    "print(x_train.shape, x_test.shape, y_train.shape, y_test.shape)"
   ]
  },
  {
   "cell_type": "markdown",
   "id": "730ed73e-45f0-493d-b98e-04e63f29dc57",
   "metadata": {},
   "source": [
    "### Vectorize"
   ]
  },
  {
   "cell_type": "code",
   "execution_count": 15,
   "id": "105a2b7e-d5e1-4d5b-aeee-3d42ae79359a",
   "metadata": {},
   "outputs": [],
   "source": [
    "vector = TfidfVectorizer(stop_words='english',\n",
    "                        ngram_range = (1,2),\n",
    "                        min_df = 3,\n",
    "                        max_df = 0.7,\n",
    "                        max_features = 10000)"
   ]
  },
  {
   "cell_type": "code",
   "execution_count": 16,
   "id": "5901867a",
   "metadata": {},
   "outputs": [
    {
     "name": "stdout",
     "output_type": "stream",
     "text": [
      "Decision Tree Metrics:\n",
      "Accuracy: 0.5357142857142857\n",
      "Precision: 0.6126373626373626\n",
      "Recall: 0.5357142857142857\n",
      "F1 Score: 0.5523088023088023\n"
     ]
    }
   ],
   "source": [
    "# Fit Decision Tree Model\n",
    "def fit_decision_tree(x_train, y_train):\n",
    "    line = Pipeline([('vectorize', vector), ('DecisionTree', DecisionTreeClassifier())])\n",
    "    line.fit(x_train, y_train)\n",
    "    return line\n",
    "\n",
    "decision_tree_model = fit_decision_tree(x_train, y_train)\n",
    "\n",
    "# Evaluate the Decision Tree Model\n",
    "def evaluate_model(model, x_test, y_test):\n",
    "    y_pred = model.predict(x_test)\n",
    "    accuracy = metrics.accuracy_score(y_test, y_pred)\n",
    "    precision = metrics.precision_score(y_test, y_pred, average='weighted')\n",
    "    recall = metrics.recall_score(y_test, y_pred, average='weighted')\n",
    "    f1 = metrics.f1_score(y_test, y_pred, average='weighted')\n",
    "    return accuracy, precision, recall, f1\n",
    "\n",
    "decision_tree_metrics = evaluate_model(decision_tree_model, x_test, y_test)\n",
    "print(f\"Decision Tree Metrics:\\nAccuracy: {decision_tree_metrics[0]}\\nPrecision: {decision_tree_metrics[1]}\\nRecall: {decision_tree_metrics[2]}\\nF1 Score: {decision_tree_metrics[3]}\")"
   ]
  },
  {
   "cell_type": "code",
   "execution_count": 17,
   "id": "a923e692",
   "metadata": {},
   "outputs": [
    {
     "name": "stdout",
     "output_type": "stream",
     "text": [
      "KMeans Cluster Predictions: (array([0, 1, 2]), array([ 1,  1, 26], dtype=int64))\n"
     ]
    }
   ],
   "source": [
    "# Fit KMeans Model\n",
    "def fit_kmeans(x_train):\n",
    "    line = Pipeline([('vectorize', vector), ('KMeans', KMeans(n_clusters=3, random_state=42))])\n",
    "    line.fit(x_train)\n",
    "    return line\n",
    "\n",
    "kmeans_model = fit_kmeans(x_train)\n",
    "\n",
    "# Predict with KMeans Model\n",
    "def predict_kmeans(model, x_test):\n",
    "    return model.predict(x_test)\n",
    "\n",
    "kmeans_predictions = predict_kmeans(kmeans_model, x_test)\n",
    "print(f\"KMeans Cluster Predictions: {np.unique(kmeans_predictions, return_counts=True)}\")"
   ]
  },
  {
   "cell_type": "code",
   "execution_count": 18,
   "id": "50d9409d",
   "metadata": {},
   "outputs": [
    {
     "name": "stdout",
     "output_type": "stream",
     "text": [
      "KMeans Cluster Predictions: (array([0, 1, 2]), array([ 1,  1, 26], dtype=int64))\n",
      "Silhouette Score: 0.11792345140029979\n",
      "Adjusted Rand Index: -0.01098561039764815\n",
      "Homogeneity: 0.06884407175346471\n",
      "Completeness: 0.2445207163287763\n",
      "V-Measure: 0.10743901280783928\n"
     ]
    }
   ],
   "source": [
    "from sklearn.metrics import silhouette_score, adjusted_rand_score, homogeneity_score, completeness_score, v_measure_score\n",
    "\n",
    "# Fit KMeans Model\n",
    "def fit_kmeans(x_train):\n",
    "    line = Pipeline([('vectorize', vector), ('KMeans', KMeans(n_clusters=3, random_state=42))])\n",
    "    line.fit(x_train)\n",
    "    return line\n",
    "\n",
    "kmeans_model = fit_kmeans(x_train)\n",
    "\n",
    "# Predict with KMeans Model\n",
    "def predict_kmeans(model, x_test):\n",
    "    return model.predict(x_test)\n",
    "\n",
    "kmeans_predictions = predict_kmeans(kmeans_model, x_test)\n",
    "print(f\"KMeans Cluster Predictions: {np.unique(kmeans_predictions, return_counts=True)}\")\n",
    "\n",
    "# Since KMeans is unsupervised, we use clustering evaluation metrics\n",
    "silhouette_avg = silhouette_score(vector.transform(x_test), kmeans_predictions)\n",
    "print(f\"Silhouette Score: {silhouette_avg}\")\n",
    "\n",
    "# If you have the true labels, you can compare the cluster labels with true labels\n",
    "# In this case, using the Cluster_Name as ground truth\n",
    "adjusted_rand = adjusted_rand_score(y_test, kmeans_predictions)\n",
    "homogeneity = homogeneity_score(y_test, kmeans_predictions)\n",
    "completeness = completeness_score(y_test, kmeans_predictions)\n",
    "v_measure = v_measure_score(y_test, kmeans_predictions)\n",
    "\n",
    "print(f\"Adjusted Rand Index: {adjusted_rand}\")\n",
    "print(f\"Homogeneity: {homogeneity}\")\n",
    "print(f\"Completeness: {completeness}\")\n",
    "print(f\"V-Measure: {v_measure}\")\n"
   ]
  },
  {
   "cell_type": "markdown",
   "id": "865cb1fa-cee1-4ae2-8d29-c123171043b7",
   "metadata": {},
   "source": [
    "### Model Construction"
   ]
  },
  {
   "cell_type": "markdown",
   "id": "2fc48841-d945-478a-8d1d-5d93f6a3637b",
   "metadata": {},
   "source": [
    "### Selecting a Model"
   ]
  },
  {
   "cell_type": "code",
   "execution_count": 19,
   "id": "c390b24b-c36a-4386-a07f-d70619e41c3f",
   "metadata": {},
   "outputs": [],
   "source": [
    "x = pd.concat([x_train,\n",
    "               x_test])\n",
    "y = pd.concat([y_train,\n",
    "               y_test])"
   ]
  },
  {
   "cell_type": "code",
   "execution_count": 20,
   "id": "f8c149b6-8eea-4659-b318-5588493a3767",
   "metadata": {},
   "outputs": [],
   "source": [
    "def create_and_fit(clf, x, y):\n",
    "    best_clf = clf\n",
    "    pipeline = Pipeline([('vectorize',vector), ('model',best_clf)])\n",
    "    return pipeline.fit(x,y)"
   ]
  },
  {
   "cell_type": "code",
   "execution_count": 21,
   "id": "0f81b68f-fcc7-4e57-9f4c-3bb3be033700",
   "metadata": {},
   "outputs": [],
   "source": [
    "classifier = create_and_fit(DecisionTreeClassifier(),x,y)"
   ]
  },
  {
   "cell_type": "code",
   "execution_count": 22,
   "id": "63843947-c9a1-47aa-97bf-e99295f056e8",
   "metadata": {},
   "outputs": [
    {
     "data": {
      "text/plain": [
       "array(['Economics', 'Entertainment', 'Politics'], dtype=object)"
      ]
     },
     "execution_count": 22,
     "metadata": {},
     "output_type": "execute_result"
    }
   ],
   "source": [
    "classifier.classes_"
   ]
  },
  {
   "cell_type": "markdown",
   "id": "12956b34-37c8-416d-9bff-7d68dbe35696",
   "metadata": {},
   "source": [
    "### Final Testing"
   ]
  },
  {
   "cell_type": "markdown",
   "id": "960e13d4",
   "metadata": {},
   "source": []
  },
  {
   "cell_type": "markdown",
   "id": "2735e8f7-c1d4-4865-8dc1-2dfe714400f4",
   "metadata": {},
   "source": [
    "This text is extracted through Google News from the Entertainment Section.\n",
    "The classifier should predict the text as \"Entertainment\""
   ]
  },
  {
   "cell_type": "code",
   "execution_count": 23,
   "id": "640f526c-777a-41c4-9ba3-e65a8d89d894",
   "metadata": {},
   "outputs": [
    {
     "data": {
      "text/plain": [
       "array([[0.44444444, 0.55555556, 0.        ]])"
      ]
     },
     "execution_count": 23,
     "metadata": {},
     "output_type": "execute_result"
    }
   ],
   "source": [
    "input_text = 'A 34%, three-day surge in SoftBank Group Corp. has pushed its shares to the most overbought level in more than two decades on the back of Arm Holdings Plc.’s explosive rally.'\n",
    "classifier.predict_proba([input_text])"
   ]
  },
  {
   "cell_type": "code",
   "execution_count": 24,
   "id": "97a4614e-d93f-4ea1-a69d-966d5fcd6745",
   "metadata": {},
   "outputs": [
    {
     "data": {
      "text/plain": [
       "'Entertainment'"
      ]
     },
     "execution_count": 24,
     "metadata": {},
     "output_type": "execute_result"
    }
   ],
   "source": [
    "classifier.predict([input_text])[0]"
   ]
  },
  {
   "cell_type": "markdown",
   "id": "d73554c4-6398-4e3e-9223-ac08e253ce69",
   "metadata": {},
   "source": [
    "### GUI"
   ]
  },
  {
   "cell_type": "code",
   "execution_count": null,
   "id": "7c72fb0e-fe14-4c26-a0ee-6d9c19d0a654",
   "metadata": {},
   "outputs": [],
   "source": [
    "import tkinter as tk\n",
    "from tkinter.scrolledtext import ScrolledText\n",
    "from tkinter import messagebox, font\n",
    "\n",
    "def result(res, pr):\n",
    "    ECONOMICS = round(pr[0][0], 3)\n",
    "    POLITICS = round(pr[0][1], 3)\n",
    "    ENTERTAINMENT = round(pr[0][2], 3)\n",
    "\n",
    "    lines = [f\"POLITICS: {POLITICS}\", f\"ECONOMICS: {ECONOMICS}\", f\"ENTERTAINMENT: {ENTERTAINMENT}\"]\n",
    "    messagebox.showinfo(\n",
    "        message=f\"Predicted Category: {str(res).capitalize()}\" + \"\\n\\n\\n\" + \"\\n\".join(lines)\n",
    "    )\n",
    "\n",
    "def clickMe():\n",
    "    classification = tk.StringVar()\n",
    "    category_, probabilities = classify_text(text_box.get(\"1.0\", tk.END))\n",
    "    result(category_, probabilities)\n",
    "\n",
    "def classify_text(input_text):\n",
    "    out = classifier.predict([input_text])[0]\n",
    "    probs = classifier.predict_proba([input_text])\n",
    "    return out, probs\n",
    "\n",
    "window = tk.Tk()\n",
    "window.title(\"TEXT CLASSIFIER_YashRajBista\")\n",
    "window.minsize(600, 400)\n",
    "\n",
    "# Set a custom font\n",
    "custom_font = font.Font(family=\"Comic Sans MS\", size=12, weight=\"bold\")\n",
    "\n",
    "# Set window background color to a brighter shade\n",
    "window.configure(bg=\"#FFD700\")  # Bright yellow\n",
    "\n",
    "# Create a frame with a different brighter background color\n",
    "frame = tk.Frame(window, padx=10, pady=10, bg=\"#FFFFFF\")  # white color\n",
    "frame.pack(expand=True, fill=tk.BOTH)\n",
    "\n",
    "label = tk.Label(frame, text=\"Enter Text to be classified\", font=custom_font, bg=\"#FFEC8B\", fg=\"#005500\")  # Dark green text\n",
    "label.grid(column=0, row=0, pady=(0, 5))\n",
    "\n",
    "text_box = ScrolledText(frame, wrap=tk.WORD, height=10, font=custom_font, bg=\"#FFFFFF\", fg=\"#005500\", insertbackground=\"#FFFFFF\")\n",
    "text_box.grid(column=0, row=1, padx=5, pady=5)\n",
    "\n",
    "btn = tk.Button(frame, text=\"Classify\", command=clickMe, font=custom_font, bg=\"#A9A9A9\", fg=\"cyan\", activebackground=\"#696969\")  # Gray button\n",
    "btn.grid(column=0, row=2, pady=(5, 0))\n",
    "\n",
    "window.mainloop()\n",
    "\n"
   ]
  },
  {
   "cell_type": "code",
   "execution_count": null,
   "id": "a4942d23-7f35-4c78-a2ed-fe2276b7beab",
   "metadata": {},
   "outputs": [],
   "source": []
  },
  {
   "cell_type": "code",
   "execution_count": null,
   "id": "e43a02ee-50ec-4dab-978b-eee8c43abc17",
   "metadata": {},
   "outputs": [],
   "source": []
  },
  {
   "cell_type": "code",
   "execution_count": null,
   "id": "1383b83b-7587-43ac-9c84-138893906994",
   "metadata": {},
   "outputs": [],
   "source": []
  }
 ],
 "metadata": {
  "kernelspec": {
   "display_name": "Python 3 (ipykernel)",
   "language": "python",
   "name": "python3"
  },
  "language_info": {
   "codemirror_mode": {
    "name": "ipython",
    "version": 3
   },
   "file_extension": ".py",
   "mimetype": "text/x-python",
   "name": "python",
   "nbconvert_exporter": "python",
   "pygments_lexer": "ipython3",
   "version": "3.12.4"
  }
 },
 "nbformat": 4,
 "nbformat_minor": 5
}
